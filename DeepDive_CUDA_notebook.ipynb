{
  "nbformat": 4,
  "nbformat_minor": 0,
  "metadata": {
    "colab": {
      "provenance": [],
      "include_colab_link": true
    },
    "kernelspec": {
      "name": "python3",
      "display_name": "Python 3"
    },
    "language_info": {
      "name": "python"
    }
  },
  "cells": [
    {
      "cell_type": "markdown",
      "metadata": {
        "id": "view-in-github",
        "colab_type": "text"
      },
      "source": [
        "<a href=\"https://colab.research.google.com/github/MichaelGelo/GRP2_DeepDive__CUDA/blob/main/DeepDive_CUDA_notebook.ipynb\" target=\"_parent\"><img src=\"https://colab.research.google.com/assets/colab-badge.svg\" alt=\"Open In Colab\"/></a>"
      ]
    },
    {
      "cell_type": "markdown",
      "source": [
        "# **Group 2 - DeepDive CUDA - Histogram counting (Atomic operations)**\n",
        "## **GROUP 2 - S11**\n",
        "\n",
        "**MEMBERS:**\n",
        "\n",
        "- Alfred Bastin S. Agustines\n",
        "- Allan David C. De Leon\n",
        "- Michael Angelo Depasucat\n",
        "- Kai Hiori J. Padilla\n"
      ],
      "metadata": {
        "id": "T-4fVR3o7XtN"
      }
    },
    {
      "cell_type": "markdown",
      "source": [
        "# (1) C Histogram program"
      ],
      "metadata": {
        "id": "IjZCFzFB8mUZ"
      }
    },
    {
      "cell_type": "code",
      "execution_count": null,
      "metadata": {
        "id": "X7_eZc8b4lH1"
      },
      "outputs": [],
      "source": [
        "%%writefile C_histo.c\n",
        "#include <Stdio.h>\n",
        "#include <stdlib.h>\n",
        "#include <Windows.h>\n",
        "#include <time.h>\n",
        "#include <stdint.h>\n",
        "\n",
        "#define NUM_BINS 10\n",
        "\n",
        "void getHistogram(int* vector, int vectorSize, int* histogram) {\n",
        "    for (int i = 0; i < vectorSize; i++) {\n",
        "        int bIndex = vector[i] % 10;\n",
        "        histogram[bIndex]++;\n",
        "    }\n",
        "}\n",
        "\n",
        "int main() {\n",
        "    const size_t ARRAY_SIZE = 1<<24;\n",
        "    const size_t ARRAY_BYTES = ARRAY_SIZE * sizeof(double);\n",
        "\n",
        "    int32_t *vector;\n",
        "    vector = (int32_t*)malloc(ARRAY_BYTES);\n",
        "    int histogram[NUM_BINS] = { 0 };\n",
        "    const size_t loope = 100;\n",
        "\n",
        "    for (int i = 0; i < ARRAY_SIZE; i++) {\n",
        "        vector[i] = i;\n",
        "    }\n",
        "\n",
        "    clock_t start, end;\n",
        "    getHistogram(vector, ARRAY_SIZE, histogram);\n",
        "\n",
        "\n",
        "    for (int i = 0; i < 10; i++) {\n",
        "        histogram[i] = 0;\n",
        "    }\n",
        "\n",
        "    double elapse, time_taken;\n",
        "    elapse = 0.0f;\n",
        "    for (int i = 0; i < loope; i++) {\n",
        "        for (int i = 0; i < 10; i++) {\n",
        "            histogram[i] = 0;\n",
        "        }\n",
        "        start = clock();\n",
        "        getHistogram(vector, ARRAY_SIZE, histogram);\n",
        "        end = clock();\n",
        "        time_taken = ((double)(end - start)) * 1E3 / CLOCKS_PER_SEC;\n",
        "        elapse = elapse + time_taken;\n",
        "    }\n",
        "    printf(\"Function (in C) average time for %lu loops is %f milliseconds to execute an array size %lu \\n\", loope, elapse / loope, ARRAY_SIZE);\n",
        "\n",
        "    size_t err_count = 0;\n",
        "    int32_t  test[NUM_BINS] = { 0 };\n",
        "\n",
        "    for (int i = 0; i < ARRAY_SIZE; i++) {\n",
        "        int bIndex = vector[i] % 10;\n",
        "        test[bIndex]++;\n",
        "    }\n",
        "    for (int i = 0; i < 10; i++) {\n",
        "\n",
        "        if (test[i] != histogram[i])\n",
        "            err_count++;\n",
        "    }\n",
        "    printf(\"Error count (C program): %lu\\n\", err_count);\n",
        "\n",
        "    for (int i = 0; i < NUM_BINS; i++) {\n",
        "        printf(\"Bin %d: %d\\n\", i, histogram[i]);\n",
        "    }\n",
        "\n",
        "    free(vector);\n",
        "\treturn 0;\n",
        "}"
      ]
    },
    {
      "cell_type": "code",
      "source": [
        "%%shell\n",
        "gcc C_histo.c -o C_histo"
      ],
      "metadata": {
        "id": "cPDW17QG7bCo"
      },
      "execution_count": null,
      "outputs": []
    },
    {
      "cell_type": "code",
      "source": [
        "%%shell\n",
        "./C_histo"
      ],
      "metadata": {
        "id": "NOv8XVRl7nnJ"
      },
      "execution_count": null,
      "outputs": []
    },
    {
      "cell_type": "markdown",
      "source": [
        "# (2) CUDA program w/ Unified memory, pre-fetching and memadvise"
      ],
      "metadata": {
        "id": "Xen_Tj0D8ucN"
      }
    },
    {
      "cell_type": "code",
      "source": [],
      "metadata": {
        "id": "ZLETBq-79A6c"
      },
      "execution_count": null,
      "outputs": []
    }
  ]
}