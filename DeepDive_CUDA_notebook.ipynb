{
  "nbformat": 4,
  "nbformat_minor": 0,
  "metadata": {
    "colab": {
      "provenance": [],
      "gpuType": "T4",
      "include_colab_link": true
    },
    "kernelspec": {
      "name": "python3",
      "display_name": "Python 3"
    },
    "language_info": {
      "name": "python"
    },
    "accelerator": "GPU"
  },
  "cells": [
    {
      "cell_type": "markdown",
      "metadata": {
        "id": "view-in-github",
        "colab_type": "text"
      },
      "source": [
        "<a href=\"https://colab.research.google.com/github/MichaelGelo/GRP2_DeepDive__CUDA/blob/main/DeepDive_CUDA_notebook.ipynb\" target=\"_parent\"><img src=\"https://colab.research.google.com/assets/colab-badge.svg\" alt=\"Open In Colab\"/></a>"
      ]
    },
    {
      "cell_type": "markdown",
      "source": [
        "# **Group 2 - DeepDive CUDA - Histogram counting (Atomic operations)**\n",
        "## **GROUP 2 - S11**\n",
        "\n",
        "**MEMBERS:**\n",
        "\n",
        "- Alfred Bastin S. Agustines\n",
        "- Allan David C. De Leon\n",
        "- Michael Angelo Depasucat\n",
        "- Kai Hiori J. Padilla\n"
      ],
      "metadata": {
        "id": "T-4fVR3o7XtN"
      }
    },
    {
      "cell_type": "markdown",
      "source": [
        "# Check if CUDA is present"
      ],
      "metadata": {
        "id": "6-K-iU8Ci3Ly"
      }
    },
    {
      "cell_type": "code",
      "source": [
        "gpu_info = !nvidia-smi\n",
        "gpu_info = '\\n'.join(gpu_info)\n",
        "if gpu_info.find('failed') >= 0:\n",
        "  print('Not connected to a GPU')\n",
        "else:\n",
        "  print(gpu_info)"
      ],
      "metadata": {
        "id": "LolojjyIi6Rw",
        "outputId": "589e4e8c-c145-4621-cff2-5177e43feaa8",
        "colab": {
          "base_uri": "https://localhost:8080/"
        }
      },
      "execution_count": null,
      "outputs": [
        {
          "output_type": "stream",
          "name": "stdout",
          "text": [
            "Wed Feb 19 18:55:27 2025       \n",
            "+-----------------------------------------------------------------------------------------+\n",
            "| NVIDIA-SMI 550.54.15              Driver Version: 550.54.15      CUDA Version: 12.4     |\n",
            "|-----------------------------------------+------------------------+----------------------+\n",
            "| GPU  Name                 Persistence-M | Bus-Id          Disp.A | Volatile Uncorr. ECC |\n",
            "| Fan  Temp   Perf          Pwr:Usage/Cap |           Memory-Usage | GPU-Util  Compute M. |\n",
            "|                                         |                        |               MIG M. |\n",
            "|=========================================+========================+======================|\n",
            "|   0  Tesla T4                       Off |   00000000:00:04.0 Off |                    0 |\n",
            "| N/A   47C    P8             10W /   70W |       0MiB /  15360MiB |      0%      Default |\n",
            "|                                         |                        |                  N/A |\n",
            "+-----------------------------------------+------------------------+----------------------+\n",
            "                                                                                         \n",
            "+-----------------------------------------------------------------------------------------+\n",
            "| Processes:                                                                              |\n",
            "|  GPU   GI   CI        PID   Type   Process name                              GPU Memory |\n",
            "|        ID   ID                                                               Usage      |\n",
            "|=========================================================================================|\n",
            "|  No running processes found                                                             |\n",
            "+-----------------------------------------------------------------------------------------+\n"
          ]
        }
      ]
    },
    {
      "cell_type": "markdown",
      "source": [
        "# (1) C Histogram program (RAW)"
      ],
      "metadata": {
        "id": "IjZCFzFB8mUZ"
      }
    },
    {
      "cell_type": "code",
      "execution_count": null,
      "metadata": {
        "id": "X7_eZc8b4lH1",
        "outputId": "5e279076-d225-4e8b-be19-9bc6491d2099",
        "colab": {
          "base_uri": "https://localhost:8080/"
        }
      },
      "outputs": [
        {
          "output_type": "stream",
          "name": "stdout",
          "text": [
            "Overwriting C_histo.c\n"
          ]
        }
      ],
      "source": [
        "%%writefile C_histo.c\n",
        "#include <stdio.h>\n",
        "#include <stdlib.h>\n",
        "#include <time.h>\n",
        "#include <stdint.h>\n",
        "\n",
        "#define NUM_BINS 10\n",
        "\n",
        "void getHistogram(int* vector, int vectorSize, int* histogram) {\n",
        "    for (int i = 0; i < vectorSize; i++) {\n",
        "        int bIndex = vector[i] % 10;\n",
        "        histogram[bIndex]++;\n",
        "    }\n",
        "}\n",
        "\n",
        "int main() {\n",
        "    const size_t ARRAY_SIZE = 1<<28;\n",
        "    const size_t ARRAY_BYTES = ARRAY_SIZE * sizeof(double);\n",
        "\n",
        "    int32_t *vector;\n",
        "    vector = (int32_t*)malloc(ARRAY_BYTES);\n",
        "    int histogram[NUM_BINS] = { 0 };\n",
        "    const size_t loope = 30;\n",
        "\n",
        "    for (int i = 0; i < ARRAY_SIZE; i++) {\n",
        "        vector[i] = i;\n",
        "    }\n",
        "\n",
        "    clock_t start, end;\n",
        "    getHistogram(vector, ARRAY_SIZE, histogram);\n",
        "\n",
        "\n",
        "    for (int i = 0; i < 10; i++) {\n",
        "        histogram[i] = 0;\n",
        "    }\n",
        "\n",
        "    double elapse, time_taken;\n",
        "    elapse = 0.0f;\n",
        "    for (int i = 0; i < loope; i++) {\n",
        "        for (int i = 0; i < 10; i++) {\n",
        "            histogram[i] = 0;\n",
        "        }\n",
        "        start = clock();\n",
        "        getHistogram(vector, ARRAY_SIZE, histogram);\n",
        "        end = clock();\n",
        "        time_taken = ((double)(end - start)) * 1E3 / CLOCKS_PER_SEC;\n",
        "        elapse = elapse + time_taken;\n",
        "    }\n",
        "    printf(\"Function (in C) average time for %lu loops is %f milliseconds to execute an array size %lu \\n\", loope, elapse / loope, ARRAY_SIZE);\n",
        "\n",
        "    size_t err_count = 0;\n",
        "    int32_t  test[NUM_BINS] = { 0 };\n",
        "\n",
        "    for (int i = 0; i < ARRAY_SIZE; i++) {\n",
        "        int bIndex = vector[i] % 10;\n",
        "        test[bIndex]++;\n",
        "    }\n",
        "    for (int i = 0; i < 10; i++) {\n",
        "\n",
        "        if (test[i] != histogram[i])\n",
        "            err_count++;\n",
        "    }\n",
        "    printf(\"Error count (C program): %lu\\n\", err_count);\n",
        "\n",
        "    for (int i = 0; i < NUM_BINS; i++) {\n",
        "        printf(\"Bin %d: %d\\n\", i, histogram[i]);\n",
        "    }\n",
        "\n",
        "    free(vector);\n",
        "\treturn 0;\n",
        "}"
      ]
    },
    {
      "cell_type": "code",
      "source": [
        "%%shell\n",
        "gcc C_histo.c -o C_histo"
      ],
      "metadata": {
        "id": "cPDW17QG7bCo",
        "outputId": "592a7e88-9066-4555-d322-e5ae7d925fdc",
        "colab": {
          "base_uri": "https://localhost:8080/"
        }
      },
      "execution_count": null,
      "outputs": [
        {
          "output_type": "execute_result",
          "data": {
            "text/plain": []
          },
          "metadata": {},
          "execution_count": 36
        }
      ]
    },
    {
      "cell_type": "code",
      "source": [
        "%%shell\n",
        "./C_histo"
      ],
      "metadata": {
        "id": "NOv8XVRl7nnJ",
        "outputId": "c7a5e5f9-7f94-43ba-e54a-799519109354",
        "colab": {
          "base_uri": "https://localhost:8080/"
        }
      },
      "execution_count": null,
      "outputs": [
        {
          "output_type": "stream",
          "name": "stdout",
          "text": [
            "Function (in C) average time for 30 loops is 1172.042167 milliseconds to execute an array size 268435456 \n",
            "Error count (C program): 0\n",
            "Bin 0: 26843546\n",
            "Bin 1: 26843546\n",
            "Bin 2: 26843546\n",
            "Bin 3: 26843546\n",
            "Bin 4: 26843546\n",
            "Bin 5: 26843546\n",
            "Bin 6: 26843545\n",
            "Bin 7: 26843545\n",
            "Bin 8: 26843545\n",
            "Bin 9: 26843545\n"
          ]
        },
        {
          "output_type": "execute_result",
          "data": {
            "text/plain": []
          },
          "metadata": {},
          "execution_count": 37
        }
      ]
    },
    {
      "cell_type": "markdown",
      "source": [
        "# (2) C Histogram program (ATOMIC)"
      ],
      "metadata": {
        "id": "tx3s-iXAXbey"
      }
    },
    {
      "cell_type": "code",
      "execution_count": 1,
      "metadata": {
        "outputId": "2c3de80a-a2e5-4e40-a588-3a202f27f230",
        "colab": {
          "base_uri": "https://localhost:8080/"
        },
        "id": "i3JFMuTUXnHs"
      },
      "outputs": [
        {
          "output_type": "stream",
          "name": "stdout",
          "text": [
            "Writing C_histo_atomic.c\n"
          ]
        }
      ],
      "source": [
        "%%writefile C_histo_atomic.c\n",
        "#include <stdio.h>\n",
        "#include <stdlib.h>\n",
        "#include <stdatomic.h>\n",
        "#include <time.h>\n",
        "#include <stdint.h>\n",
        "\n",
        "#define NUM_BINS 10\n",
        "\n",
        "void getHistogram(int* vector, int vectorSize, atomic_int* histogram) {\n",
        "    for (int i = 0; i < vectorSize; i++) {\n",
        "        int bIndex = vector[i] % NUM_BINS;\n",
        "        atomic_fetch_add(&histogram[bIndex], 1);\n",
        "    }\n",
        "}\n",
        "\n",
        "int main() {\n",
        "    const size_t ARRAY_SIZE = 1<<28;\n",
        "    const size_t ARRAY_BYTES = ARRAY_SIZE * sizeof(double);\n",
        "\n",
        "    int32_t *vector;\n",
        "    vector = (int32_t*)malloc(ARRAY_BYTES);\n",
        "    atomic_int histogram[NUM_BINS] = { 0 };\n",
        "    const size_t loope = 30;\n",
        "\n",
        "    for (int i = 0; i < ARRAY_SIZE; i++) {\n",
        "        vector[i] = i;\n",
        "    }\n",
        "\n",
        "    clock_t start, end;\n",
        "    getHistogram(vector, ARRAY_SIZE, histogram);\n",
        "\n",
        "\n",
        "    for (int i = 0; i < 10; i++) {\n",
        "        histogram[i] = 0;\n",
        "    }\n",
        "\n",
        "    double elapse, time_taken;\n",
        "    elapse = 0.0f;\n",
        "    for (int i = 0; i < loope; i++) {\n",
        "        for (int i = 0; i < 10; i++) {\n",
        "            histogram[i] = 0;\n",
        "        }\n",
        "        start = clock();\n",
        "        getHistogram(vector, ARRAY_SIZE, histogram);\n",
        "        end = clock();\n",
        "        time_taken = ((double)(end - start)) * 1E3 / CLOCKS_PER_SEC;\n",
        "        elapse = elapse + time_taken;\n",
        "    }\n",
        "    printf(\"Function (in C) average time for %lu loops is %f milliseconds to execute an array size %lu \\n\", loope, elapse / loope, ARRAY_SIZE);\n",
        "\n",
        "    size_t err_count = 0;\n",
        "    int32_t  test[NUM_BINS] = { 0 };\n",
        "\n",
        "    for (int i = 0; i < ARRAY_SIZE; i++) {\n",
        "        int bIndex = vector[i] % 10;\n",
        "        test[bIndex]++;\n",
        "    }\n",
        "    for (int i = 0; i < 10; i++) {\n",
        "\n",
        "        if (test[i] != histogram[i])\n",
        "            err_count++;\n",
        "    }\n",
        "    printf(\"Error count (C program): %lu\\n\", err_count);\n",
        "\n",
        "    for (int i = 0; i < NUM_BINS; i++) {\n",
        "        printf(\"Bin %d: %d\\n\", i, histogram[i]);\n",
        "    }\n",
        "\n",
        "    free(vector);\n",
        "\treturn 0;\n",
        "}"
      ]
    },
    {
      "cell_type": "code",
      "source": [
        "%%shell\n",
        "gcc C_histo_atomic.c -o C_histo_atomic"
      ],
      "metadata": {
        "outputId": "a1f939a1-0025-4f23-a826-5f1445df752f",
        "colab": {
          "base_uri": "https://localhost:8080/"
        },
        "id": "Udc0pAWWX4SR"
      },
      "execution_count": 2,
      "outputs": [
        {
          "output_type": "execute_result",
          "data": {
            "text/plain": []
          },
          "metadata": {},
          "execution_count": 2
        }
      ]
    },
    {
      "cell_type": "code",
      "source": [
        "%%shell\n",
        "./C_histo_atomic"
      ],
      "metadata": {
        "id": "-KNoatBXX6EP",
        "outputId": "ca76c196-449e-416f-f221-3d9805b7f36d",
        "colab": {
          "base_uri": "https://localhost:8080/"
        }
      },
      "execution_count": 3,
      "outputs": [
        {
          "output_type": "stream",
          "name": "stdout",
          "text": [
            "Function (in C) average time for 30 loops is 2333.543200 milliseconds to execute an array size 268435456 \n",
            "Error count (C program): 0\n",
            "Bin 0: 26843546\n",
            "Bin 1: 26843546\n",
            "Bin 2: 26843546\n",
            "Bin 3: 26843546\n",
            "Bin 4: 26843546\n",
            "Bin 5: 26843546\n",
            "Bin 6: 26843545\n",
            "Bin 7: 26843545\n",
            "Bin 8: 26843545\n",
            "Bin 9: 26843545\n"
          ]
        },
        {
          "output_type": "execute_result",
          "data": {
            "text/plain": []
          },
          "metadata": {},
          "execution_count": 3
        }
      ]
    },
    {
      "cell_type": "markdown",
      "source": [
        "# (3) CUDA program w/ Unified memory, pre-fetching and memadvise (RAW)"
      ],
      "metadata": {
        "id": "E0d8iA4_YdFg"
      }
    },
    {
      "cell_type": "code",
      "source": [
        "%%writefile cuda_raw.cu\n",
        "#include <stdio.h>\n",
        "#include <stdlib.h>\n",
        "\n",
        "#define VECTOR_SIZE (1 << 28)\n",
        "#define NUM_LOOPE 30\n",
        "#define NUM_BINS 10\n",
        "\n",
        "// CUDA kernel using atomic operations\n",
        "__global__ void histogramKernel(int *d_data, int *d_histogram, int size) {\n",
        "    int index = blockIdx.x * blockDim.x + threadIdx.x;\n",
        "    int stride = blockDim.x * gridDim.x;\n",
        "\n",
        "    for (int i = index; i < size; i += stride) {\n",
        "        int bin = d_data[i] % NUM_BINS;\n",
        "        d_histogram[bin]++;\n",
        "    }\n",
        "}\n",
        "\n",
        "int main() {\n",
        "    const size_t ARRAY_SIZE = VECTOR_SIZE;\n",
        "    const size_t ARRAY_BYTES = ARRAY_SIZE * sizeof(int);\n",
        "\n",
        "    //number of times the program is to be executed\n",
        "    const size_t loope = NUM_LOOPE;\n",
        "\n",
        "    //declare array\n",
        "    int *data, *histogram;\n",
        "    cudaMallocManaged(&data, ARRAY_BYTES);\n",
        "    cudaMallocManaged(&histogram, NUM_BINS * sizeof(int));\n",
        "\n",
        "    //get gpu id\n",
        "    int device = -1;\n",
        "    cudaGetDevice(&device);\n",
        "\n",
        "    // memory advise\n",
        "    cudaMemAdvise(data, ARRAY_BYTES, cudaMemAdviseSetPreferredLocation, cudaCpuDeviceId);\n",
        "    cudaMemAdvise(data, ARRAY_BYTES, cudaMemAdviseSetReadMostly, cudaCpuDeviceId);\n",
        "\n",
        "    //\"prefetch data\" to create CPU page memory\n",
        "    cudaMemPrefetchAsync(data, ARRAY_BYTES, cudaCpuDeviceId, NULL);\n",
        "    cudaMemPrefetchAsync(histogram, NUM_BINS * sizeof(int), device, NULL);\n",
        "\n",
        "    // *** init array\n",
        "    for (size_t i = 0; i < VECTOR_SIZE; i++) {\n",
        "        data[i] = i;\n",
        "    }\n",
        "\n",
        "    //\"Prefetch data\" from CPU-GPU\n",
        "    cudaMemPrefetchAsync(data, ARRAY_BYTES, device, NULL);\n",
        "    cudaMemPrefetchAsync(histogram, NUM_BINS * sizeof(int), device, NULL);\n",
        "\n",
        "    // *** setup CUDA kernel\n",
        "    size_t numThreads = 1024;\n",
        "    size_t numBlocks = (VECTOR_SIZE + numThreads - 1) / numThreads;\n",
        "\n",
        "    printf(\"*** function = Histogram Counting\\n\");\n",
        "    printf(\"numElements = %lu\\n\", ARRAY_SIZE);\n",
        "    printf(\"numBlocks = %lu, numThreads = %lu \\n\", numBlocks, numThreads);\n",
        "\n",
        "    for (size_t i = 0; i < loope; i++) {\n",
        "        cudaMemset(histogram, 0, NUM_BINS * sizeof(int));\n",
        "        histogramKernel<<<numBlocks, numThreads>>>(data, histogram, VECTOR_SIZE);\n",
        "    }\n",
        "\n",
        "    //barrier\n",
        "    cudaDeviceSynchronize();\n",
        "\n",
        "    //\"Prefetch data\" from GPU-CPU\n",
        "    cudaMemPrefetchAsync(histogram, NUM_BINS * sizeof(int), cudaCpuDeviceId, NULL);\n",
        "\n",
        "    //error checking\n",
        "    size_t err_count = 0;\n",
        "    int referenceHistogram[NUM_BINS] = {0};\n",
        "    for (size_t i = 0; i < VECTOR_SIZE; i++) {\n",
        "        int bin = data[i] % NUM_BINS;\n",
        "        referenceHistogram[bin]++;\n",
        "    }\n",
        "    for (int i = 0; i < NUM_BINS; i++) {\n",
        "        if (histogram[i] != referenceHistogram[i]) {\n",
        "            printf(\"Mismatch at bin %d: CUDA=%d, CPU=%d\\n\", i, histogram[i], referenceHistogram[i]);\n",
        "            err_count++;\n",
        "        }\n",
        "    }\n",
        "    printf(\"Error count (CUDA program): %zu\\n\", err_count);\n",
        "\n",
        "    // Print results\n",
        "    for (int i = 0; i < NUM_BINS; i++) {\n",
        "        printf(\"Bin %d: %d\\n\", i, histogram[i]);\n",
        "    }\n",
        "\n",
        "    //free memory\n",
        "    cudaFree(data);\n",
        "    cudaFree(histogram);\n",
        "\n",
        "    return 0;\n",
        "}"
      ],
      "metadata": {
        "outputId": "d379d4fe-faed-4225-f25b-feb34cdffc92",
        "colab": {
          "base_uri": "https://localhost:8080/"
        },
        "id": "Br_u0riJYlC2"
      },
      "execution_count": 10,
      "outputs": [
        {
          "output_type": "stream",
          "name": "stdout",
          "text": [
            "Overwriting cuda_raw.cu\n"
          ]
        }
      ]
    },
    {
      "cell_type": "code",
      "source": [
        "%%shell\n",
        "nvcc -o cuda_raw cuda_raw.cu -arch=sm_75"
      ],
      "metadata": {
        "id": "66jlTBIIYx17",
        "outputId": "53ac9904-1022-45d6-81d3-d21b63e4912f",
        "colab": {
          "base_uri": "https://localhost:8080/"
        }
      },
      "execution_count": 11,
      "outputs": [
        {
          "output_type": "execute_result",
          "data": {
            "text/plain": []
          },
          "metadata": {},
          "execution_count": 11
        }
      ]
    },
    {
      "cell_type": "code",
      "source": [
        "%%shell\n",
        "nvprof ./cuda_raw"
      ],
      "metadata": {
        "id": "uKnhmohgY2IM",
        "outputId": "ad69e08f-ad4a-4c35-d822-13cc589da852",
        "colab": {
          "base_uri": "https://localhost:8080/"
        }
      },
      "execution_count": 12,
      "outputs": [
        {
          "output_type": "stream",
          "name": "stdout",
          "text": [
            "==4256== NVPROF is profiling process 4256, command: ./cuda_raw\n",
            "*** function = Histogram Counting\n",
            "numElements = 268435456\n",
            "numBlocks = 262144, numThreads = 1024 \n",
            "Mismatch at bin 0: CUDA=27427, CPU=26843546\n",
            "Mismatch at bin 1: CUDA=27427, CPU=26843546\n",
            "Mismatch at bin 2: CUDA=27427, CPU=26843546\n",
            "Mismatch at bin 3: CUDA=27427, CPU=26843546\n",
            "Mismatch at bin 4: CUDA=27427, CPU=26843546\n",
            "Mismatch at bin 5: CUDA=27427, CPU=26843546\n",
            "Mismatch at bin 6: CUDA=27427, CPU=26843545\n",
            "Mismatch at bin 7: CUDA=27427, CPU=26843545\n",
            "Mismatch at bin 8: CUDA=27425, CPU=26843545\n",
            "Mismatch at bin 9: CUDA=27425, CPU=26843545\n",
            "Error count (CUDA program): 10\n",
            "Bin 0: 27427\n",
            "Bin 1: 27427\n",
            "Bin 2: 27427\n",
            "Bin 3: 27427\n",
            "Bin 4: 27427\n",
            "Bin 5: 27427\n",
            "Bin 6: 27427\n",
            "Bin 7: 27427\n",
            "Bin 8: 27425\n",
            "Bin 9: 27425\n",
            "==4256== Profiling application: ./cuda_raw\n",
            "==4256== Profiling result:\n",
            "            Type  Time(%)      Time     Calls       Avg       Min       Max  Name\n",
            " GPU activities:   99.98%  314.75ms        30  10.492ms  7.4570ms  14.300ms  histogramKernel(int*, int*, int)\n",
            "                    0.02%  71.807us        30  2.3930us  1.6960us  4.0320us  [CUDA memset]\n",
            "      API calls:   38.46%  348.95ms         5  69.789ms  24.266us  244.69ms  cudaMemPrefetchAsync\n",
            "                   33.90%  307.53ms        30  10.251ms  57.014us  14.317ms  cudaMemset\n",
            "                   22.13%  200.81ms         2  100.41ms  62.925us  200.75ms  cudaMallocManaged\n",
            "                    4.60%  41.724ms         2  20.862ms  2.2902ms  39.434ms  cudaFree\n",
            "                    0.83%  7.5429ms         1  7.5429ms  7.5429ms  7.5429ms  cudaDeviceSynchronize\n",
            "                    0.06%  545.47us        30  18.182us  6.1080us  155.69us  cudaLaunchKernel\n",
            "                    0.01%  131.61us       114  1.1540us     104ns  53.530us  cuDeviceGetAttribute\n",
            "                    0.00%  35.865us         2  17.932us  2.5370us  33.328us  cudaMemAdvise\n",
            "                    0.00%  12.400us         1  12.400us  12.400us  12.400us  cuDeviceGetName\n",
            "                    0.00%  5.9750us         1  5.9750us  5.9750us  5.9750us  cuDeviceGetPCIBusId\n",
            "                    0.00%  2.2810us         2  1.1400us     538ns  1.7430us  cuDeviceGet\n",
            "                    0.00%  1.8020us         1  1.8020us  1.8020us  1.8020us  cudaGetDevice\n",
            "                    0.00%  1.0280us         3     342ns     129ns     583ns  cuDeviceGetCount\n",
            "                    0.00%     384ns         1     384ns     384ns     384ns  cuDeviceGetUuid\n",
            "                    0.00%     371ns         1     371ns     371ns     371ns  cuModuleGetLoadingMode\n",
            "                    0.00%     350ns         1     350ns     350ns     350ns  cuDeviceTotalMem\n",
            "\n",
            "==4256== Unified Memory profiling result:\n",
            "Device \"Tesla T4 (0)\"\n",
            "   Count  Avg Size  Min Size  Max Size  Total Size  Total Time  Name\n",
            "     512  2.0000MB  2.0000MB  2.0000MB  1.000000GB  88.91316ms  Host To Device\n",
            "       1  4.0000KB  4.0000KB  4.0000KB  4.000000KB  1.568000us  Device To Host\n"
          ]
        },
        {
          "output_type": "execute_result",
          "data": {
            "text/plain": []
          },
          "metadata": {},
          "execution_count": 12
        }
      ]
    },
    {
      "cell_type": "markdown",
      "source": [
        "# (4) CUDA program w/ Unified memory, pre-fetching and memadvise (Atomic Operations)"
      ],
      "metadata": {
        "id": "Xen_Tj0D8ucN"
      }
    },
    {
      "cell_type": "code",
      "source": [
        "%%writefile cuda.cu\n",
        "#include <stdio.h>\n",
        "#include <stdlib.h>\n",
        "\n",
        "#define VECTOR_SIZE (1 << 28)\n",
        "#define NUM_LOOPE 30\n",
        "#define NUM_BINS 10\n",
        "\n",
        "// CUDA kernel using atomic operations\n",
        "__global__ void histogramKernel(int *d_data, int *d_histogram, int size) {\n",
        "    int index = blockIdx.x * blockDim.x + threadIdx.x;\n",
        "    int stride = blockDim.x * gridDim.x;\n",
        "\n",
        "    for (int i = index; i < size; i += stride) {\n",
        "        int bin = d_data[i] % NUM_BINS;\n",
        "        atomicAdd(&d_histogram[bin], 1);\n",
        "    }\n",
        "}\n",
        "\n",
        "int main() {\n",
        "    const size_t ARRAY_SIZE = VECTOR_SIZE;\n",
        "    const size_t ARRAY_BYTES = ARRAY_SIZE * sizeof(int);\n",
        "\n",
        "    //number of times the program is to be executed\n",
        "    const size_t loope = NUM_LOOPE;\n",
        "\n",
        "    //declare array\n",
        "    int *data, *histogram;\n",
        "    cudaMallocManaged(&data, ARRAY_BYTES);\n",
        "    cudaMallocManaged(&histogram, NUM_BINS * sizeof(int));\n",
        "\n",
        "    //get gpu id\n",
        "    int device = -1;\n",
        "    cudaGetDevice(&device);\n",
        "\n",
        "    // memory advise\n",
        "    cudaMemAdvise(data, ARRAY_BYTES, cudaMemAdviseSetPreferredLocation, cudaCpuDeviceId);\n",
        "    cudaMemAdvise(data, ARRAY_BYTES, cudaMemAdviseSetReadMostly, cudaCpuDeviceId);\n",
        "\n",
        "    //\"prefetch data\" to create CPU page memory\n",
        "    cudaMemPrefetchAsync(data, ARRAY_BYTES, cudaCpuDeviceId, NULL);\n",
        "    cudaMemPrefetchAsync(histogram, NUM_BINS * sizeof(int), device, NULL);\n",
        "\n",
        "    // *** init array\n",
        "    for (size_t i = 0; i < VECTOR_SIZE; i++) {\n",
        "        data[i] = i;\n",
        "    }\n",
        "\n",
        "    //\"Prefetch data\" from CPU-GPU\n",
        "    cudaMemPrefetchAsync(data, ARRAY_BYTES, device, NULL);\n",
        "    cudaMemPrefetchAsync(histogram, NUM_BINS * sizeof(int), device, NULL);\n",
        "\n",
        "    // *** setup CUDA kernel\n",
        "    size_t numThreads = 1024;\n",
        "    size_t numBlocks = (VECTOR_SIZE + numThreads - 1) / numThreads;\n",
        "\n",
        "    printf(\"*** function = Histogram Counting\\n\");\n",
        "    printf(\"numElements = %lu\\n\", ARRAY_SIZE);\n",
        "    printf(\"numBlocks = %lu, numThreads = %lu \\n\", numBlocks, numThreads);\n",
        "\n",
        "    for (size_t i = 0; i < loope; i++) {\n",
        "        cudaMemset(histogram, 0, NUM_BINS * sizeof(int));\n",
        "        histogramKernel<<<numBlocks, numThreads>>>(data, histogram, VECTOR_SIZE);\n",
        "    }\n",
        "\n",
        "    //barrier\n",
        "    cudaDeviceSynchronize();\n",
        "\n",
        "    //\"Prefetch data\" from GPU-CPU\n",
        "    cudaMemPrefetchAsync(histogram, NUM_BINS * sizeof(int), cudaCpuDeviceId, NULL);\n",
        "\n",
        "    //error checking\n",
        "    size_t err_count = 0;\n",
        "    int referenceHistogram[NUM_BINS] = {0};\n",
        "    for (size_t i = 0; i < VECTOR_SIZE; i++) {\n",
        "        int bin = data[i] % NUM_BINS;\n",
        "        referenceHistogram[bin]++;\n",
        "    }\n",
        "    for (int i = 0; i < NUM_BINS; i++) {\n",
        "        if (histogram[i] != referenceHistogram[i]) {\n",
        "            printf(\"Mismatch at bin %d: CUDA=%d, CPU=%d\\n\", i, histogram[i], referenceHistogram[i]);\n",
        "            err_count++;\n",
        "        }\n",
        "    }\n",
        "    printf(\"Error count (CUDA program): %zu\\n\", err_count);\n",
        "\n",
        "    // Print results\n",
        "    for (int i = 0; i < NUM_BINS; i++) {\n",
        "        printf(\"Bin %d: %d\\n\", i, histogram[i]);\n",
        "    }\n",
        "\n",
        "    //free memory\n",
        "    cudaFree(data);\n",
        "    cudaFree(histogram);\n",
        "\n",
        "    return 0;\n",
        "}"
      ],
      "metadata": {
        "id": "ZLETBq-79A6c",
        "outputId": "62ce9860-d849-440c-dd93-d37de538af4c",
        "colab": {
          "base_uri": "https://localhost:8080/"
        }
      },
      "execution_count": 13,
      "outputs": [
        {
          "output_type": "stream",
          "name": "stdout",
          "text": [
            "Writing cuda.cu\n"
          ]
        }
      ]
    },
    {
      "cell_type": "code",
      "source": [
        "%%shell\n",
        "nvcc -o cuda cuda.cu -arch=sm_75"
      ],
      "metadata": {
        "id": "v6WVtd_UhU4N",
        "outputId": "7465a257-2270-4dde-c462-2c7232fa1f8c",
        "colab": {
          "base_uri": "https://localhost:8080/"
        }
      },
      "execution_count": 14,
      "outputs": [
        {
          "output_type": "execute_result",
          "data": {
            "text/plain": []
          },
          "metadata": {},
          "execution_count": 14
        }
      ]
    },
    {
      "cell_type": "code",
      "source": [
        "%%shell\n",
        "nvprof ./cuda"
      ],
      "metadata": {
        "id": "ve-0s_CzhZ35",
        "outputId": "84ea13db-35fe-4587-b85a-9fdf4a97f883",
        "colab": {
          "base_uri": "https://localhost:8080/"
        }
      },
      "execution_count": 15,
      "outputs": [
        {
          "output_type": "stream",
          "name": "stdout",
          "text": [
            "==4500== NVPROF is profiling process 4500, command: ./cuda\n",
            "*** function = Histogram Counting\n",
            "numElements = 268435456\n",
            "numBlocks = 262144, numThreads = 1024 \n",
            "Error count (CUDA program): 0\n",
            "Bin 0: 26843546\n",
            "Bin 1: 26843546\n",
            "Bin 2: 26843546\n",
            "Bin 3: 26843546\n",
            "Bin 4: 26843546\n",
            "Bin 5: 26843546\n",
            "Bin 6: 26843545\n",
            "Bin 7: 26843545\n",
            "Bin 8: 26843545\n",
            "Bin 9: 26843545\n",
            "==4500== Profiling application: ./cuda\n",
            "==4500== Profiling result:\n",
            "            Type  Time(%)      Time     Calls       Avg       Min       Max  Name\n",
            " GPU activities:  100.00%  1.92632s        30  64.211ms  61.074ms  108.18ms  histogramKernel(int*, int*, int)\n",
            "                    0.00%  52.959us        30  1.7650us  1.5680us  4.0640us  [CUDA memset]\n",
            "      API calls:   73.76%  1.86571s        30  62.190ms  84.362us  108.20ms  cudaMemset\n",
            "                   13.43%  339.82ms         5  67.964ms  28.404us  235.95ms  cudaMemPrefetchAsync\n",
            "                    8.65%  218.83ms         2  109.42ms  93.372us  218.74ms  cudaMallocManaged\n",
            "                    2.41%  61.084ms         1  61.084ms  61.084ms  61.084ms  cudaDeviceSynchronize\n",
            "                    1.69%  42.778ms         2  21.389ms  2.5047ms  40.274ms  cudaFree\n",
            "                    0.04%  1.0340ms        30  34.467us  23.132us  149.75us  cudaLaunchKernel\n",
            "                    0.01%  158.63us       114  1.3910us     112ns  74.112us  cuDeviceGetAttribute\n",
            "                    0.00%  19.702us         2  9.8510us  2.3870us  17.315us  cudaMemAdvise\n",
            "                    0.00%  12.598us         1  12.598us  12.598us  12.598us  cuDeviceGetName\n",
            "                    0.00%  5.3520us         1  5.3520us  5.3520us  5.3520us  cuDeviceGetPCIBusId\n",
            "                    0.00%  1.9570us         1  1.9570us  1.9570us  1.9570us  cudaGetDevice\n",
            "                    0.00%  1.5410us         3     513ns     137ns  1.1540us  cuDeviceGetCount\n",
            "                    0.00%     710ns         2     355ns     136ns     574ns  cuDeviceGet\n",
            "                    0.00%     566ns         1     566ns     566ns     566ns  cuModuleGetLoadingMode\n",
            "                    0.00%     422ns         1     422ns     422ns     422ns  cuDeviceTotalMem\n",
            "                    0.00%     311ns         1     311ns     311ns     311ns  cuDeviceGetUuid\n",
            "\n",
            "==4500== Unified Memory profiling result:\n",
            "Device \"Tesla T4 (0)\"\n",
            "   Count  Avg Size  Min Size  Max Size  Total Size  Total Time  Name\n",
            "     512  2.0000MB  2.0000MB  2.0000MB  1.000000GB  88.90247ms  Host To Device\n",
            "       1  4.0000KB  4.0000KB  4.0000KB  4.000000KB  1.504000us  Device To Host\n"
          ]
        },
        {
          "output_type": "execute_result",
          "data": {
            "text/plain": []
          },
          "metadata": {},
          "execution_count": 15
        }
      ]
    }
  ]
}