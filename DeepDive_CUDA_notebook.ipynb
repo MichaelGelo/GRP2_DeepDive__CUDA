{
  "nbformat": 4,
  "nbformat_minor": 0,
  "metadata": {
    "colab": {
      "provenance": [],
      "gpuType": "T4",
      "include_colab_link": true
    },
    "kernelspec": {
      "name": "python3",
      "display_name": "Python 3"
    },
    "language_info": {
      "name": "python"
    },
    "accelerator": "GPU"
  },
  "cells": [
    {
      "cell_type": "markdown",
      "metadata": {
        "id": "view-in-github",
        "colab_type": "text"
      },
      "source": [
        "<a href=\"https://colab.research.google.com/github/MichaelGelo/GRP2_DeepDive__CUDA/blob/main/DeepDive_CUDA_notebook.ipynb\" target=\"_parent\"><img src=\"https://colab.research.google.com/assets/colab-badge.svg\" alt=\"Open In Colab\"/></a>"
      ]
    },
    {
      "cell_type": "markdown",
      "source": [
        "# **Group 2 - DeepDive CUDA - Histogram counting (Atomic operations)**\n",
        "## **GROUP 2 - S11**\n",
        "\n",
        "**MEMBERS:**\n",
        "\n",
        "- Alfred Bastin S. Agustines\n",
        "- Allan David C. De Leon\n",
        "- Michael Angelo Depasucat\n",
        "- Kai Hiori J. Padilla\n"
      ],
      "metadata": {
        "id": "T-4fVR3o7XtN"
      }
    },
    {
      "cell_type": "markdown",
      "source": [
        "# Check if CUDA is present"
      ],
      "metadata": {
        "id": "6-K-iU8Ci3Ly"
      }
    },
    {
      "cell_type": "code",
      "source": [
        "gpu_info = !nvidia-smi\n",
        "gpu_info = '\\n'.join(gpu_info)\n",
        "if gpu_info.find('failed') >= 0:\n",
        "  print('Not connected to a GPU')\n",
        "else:\n",
        "  print(gpu_info)"
      ],
      "metadata": {
        "id": "LolojjyIi6Rw",
        "outputId": "589e4e8c-c145-4621-cff2-5177e43feaa8",
        "colab": {
          "base_uri": "https://localhost:8080/"
        }
      },
      "execution_count": 1,
      "outputs": [
        {
          "output_type": "stream",
          "name": "stdout",
          "text": [
            "Wed Feb 19 18:55:27 2025       \n",
            "+-----------------------------------------------------------------------------------------+\n",
            "| NVIDIA-SMI 550.54.15              Driver Version: 550.54.15      CUDA Version: 12.4     |\n",
            "|-----------------------------------------+------------------------+----------------------+\n",
            "| GPU  Name                 Persistence-M | Bus-Id          Disp.A | Volatile Uncorr. ECC |\n",
            "| Fan  Temp   Perf          Pwr:Usage/Cap |           Memory-Usage | GPU-Util  Compute M. |\n",
            "|                                         |                        |               MIG M. |\n",
            "|=========================================+========================+======================|\n",
            "|   0  Tesla T4                       Off |   00000000:00:04.0 Off |                    0 |\n",
            "| N/A   47C    P8             10W /   70W |       0MiB /  15360MiB |      0%      Default |\n",
            "|                                         |                        |                  N/A |\n",
            "+-----------------------------------------+------------------------+----------------------+\n",
            "                                                                                         \n",
            "+-----------------------------------------------------------------------------------------+\n",
            "| Processes:                                                                              |\n",
            "|  GPU   GI   CI        PID   Type   Process name                              GPU Memory |\n",
            "|        ID   ID                                                               Usage      |\n",
            "|=========================================================================================|\n",
            "|  No running processes found                                                             |\n",
            "+-----------------------------------------------------------------------------------------+\n"
          ]
        }
      ]
    },
    {
      "cell_type": "markdown",
      "source": [
        "# (1) C Histogram program"
      ],
      "metadata": {
        "id": "IjZCFzFB8mUZ"
      }
    },
    {
      "cell_type": "code",
      "execution_count": 17,
      "metadata": {
        "id": "X7_eZc8b4lH1",
        "outputId": "21315c6d-3fd8-4a1d-8c28-59e7ed17205d",
        "colab": {
          "base_uri": "https://localhost:8080/"
        }
      },
      "outputs": [
        {
          "output_type": "stream",
          "name": "stdout",
          "text": [
            "Overwriting C_histo.c\n"
          ]
        }
      ],
      "source": [
        "%%writefile C_histo.c\n",
        "#include <stdio.h>\n",
        "#include <stdlib.h>\n",
        "#include <time.h>\n",
        "#include <stdint.h>\n",
        "\n",
        "#define NUM_BINS 10\n",
        "\n",
        "void getHistogram(int* vector, int vectorSize, int* histogram) {\n",
        "    for (int i = 0; i < vectorSize; i++) {\n",
        "        int bIndex = vector[i] % 10;\n",
        "        histogram[bIndex]++;\n",
        "    }\n",
        "}\n",
        "\n",
        "int main() {\n",
        "    const size_t ARRAY_SIZE = 1<<24;\n",
        "    const size_t ARRAY_BYTES = ARRAY_SIZE * sizeof(double);\n",
        "\n",
        "    int32_t *vector;\n",
        "    vector = (int32_t*)malloc(ARRAY_BYTES);\n",
        "    int histogram[NUM_BINS] = { 0 };\n",
        "    const size_t loope = 100;\n",
        "\n",
        "    for (int i = 0; i < ARRAY_SIZE; i++) {\n",
        "        vector[i] = i;\n",
        "    }\n",
        "\n",
        "    clock_t start, end;\n",
        "    getHistogram(vector, ARRAY_SIZE, histogram);\n",
        "\n",
        "\n",
        "    for (int i = 0; i < 10; i++) {\n",
        "        histogram[i] = 0;\n",
        "    }\n",
        "\n",
        "    double elapse, time_taken;\n",
        "    elapse = 0.0f;\n",
        "    for (int i = 0; i < loope; i++) {\n",
        "        for (int i = 0; i < 10; i++) {\n",
        "            histogram[i] = 0;\n",
        "        }\n",
        "        start = clock();\n",
        "        getHistogram(vector, ARRAY_SIZE, histogram);\n",
        "        end = clock();\n",
        "        time_taken = ((double)(end - start)) * 1E3 / CLOCKS_PER_SEC;\n",
        "        elapse = elapse + time_taken;\n",
        "    }\n",
        "    printf(\"Function (in C) average time for %lu loops is %f milliseconds to execute an array size %lu \\n\", loope, elapse / loope, ARRAY_SIZE);\n",
        "\n",
        "    size_t err_count = 0;\n",
        "    int32_t  test[NUM_BINS] = { 0 };\n",
        "\n",
        "    for (int i = 0; i < ARRAY_SIZE; i++) {\n",
        "        int bIndex = vector[i] % 10;\n",
        "        test[bIndex]++;\n",
        "    }\n",
        "    for (int i = 0; i < 10; i++) {\n",
        "\n",
        "        if (test[i] != histogram[i])\n",
        "            err_count++;\n",
        "    }\n",
        "    printf(\"Error count (C program): %lu\\n\", err_count);\n",
        "\n",
        "    for (int i = 0; i < NUM_BINS; i++) {\n",
        "        printf(\"Bin %d: %d\\n\", i, histogram[i]);\n",
        "    }\n",
        "\n",
        "    free(vector);\n",
        "\treturn 0;\n",
        "}"
      ]
    },
    {
      "cell_type": "code",
      "source": [
        "%%shell\n",
        "gcc C_histo.c -o C_histo"
      ],
      "metadata": {
        "id": "cPDW17QG7bCo",
        "outputId": "fc2693d3-dba5-43b3-e68d-eb761bcfa736",
        "colab": {
          "base_uri": "https://localhost:8080/"
        }
      },
      "execution_count": 18,
      "outputs": [
        {
          "output_type": "execute_result",
          "data": {
            "text/plain": []
          },
          "metadata": {},
          "execution_count": 18
        }
      ]
    },
    {
      "cell_type": "code",
      "source": [
        "%%shell\n",
        "./C_histo"
      ],
      "metadata": {
        "id": "NOv8XVRl7nnJ",
        "outputId": "cbceb402-1f74-4b2e-f90d-f9811d9889ef",
        "colab": {
          "base_uri": "https://localhost:8080/"
        }
      },
      "execution_count": 19,
      "outputs": [
        {
          "output_type": "stream",
          "name": "stdout",
          "text": [
            "Function (in C) average time for 100 loops is 69.097810 milliseconds to execute an array size 16777216 \n",
            "Error count (C program): 0\n",
            "Bin 0: 1677722\n",
            "Bin 1: 1677722\n",
            "Bin 2: 1677722\n",
            "Bin 3: 1677722\n",
            "Bin 4: 1677722\n",
            "Bin 5: 1677722\n",
            "Bin 6: 1677721\n",
            "Bin 7: 1677721\n",
            "Bin 8: 1677721\n",
            "Bin 9: 1677721\n"
          ]
        },
        {
          "output_type": "execute_result",
          "data": {
            "text/plain": []
          },
          "metadata": {},
          "execution_count": 19
        }
      ]
    },
    {
      "cell_type": "markdown",
      "source": [
        "# (2) CUDA program w/ Unified memory, pre-fetching and memadvise (Atomic Operations)"
      ],
      "metadata": {
        "id": "Xen_Tj0D8ucN"
      }
    },
    {
      "cell_type": "code",
      "source": [
        "%%writefile cuda.cu\n",
        "#include <stdio.h>\n",
        "#include <stdlib.h>\n",
        "\n",
        "#define VECTOR_SIZE (1 << 28)\n",
        "#define NUM_LOOPE 30\n",
        "#define NUM_BINS 10\n",
        "\n",
        "// CUDA kernel using atomic operations\n",
        "__global__ void histogramKernel(int *d_data, int *d_histogram, int size) {\n",
        "    int index = blockIdx.x * blockDim.x + threadIdx.x;\n",
        "    int stride = blockDim.x * gridDim.x;\n",
        "\n",
        "    for (int i = index; i < size; i += stride) {\n",
        "        int bin = d_data[i] % NUM_BINS;\n",
        "        atomicAdd(&d_histogram[bin], 1);\n",
        "    }\n",
        "}\n",
        "\n",
        "int main() {\n",
        "    const size_t ARRAY_SIZE = VECTOR_SIZE;\n",
        "    const size_t ARRAY_BYTES = ARRAY_SIZE * sizeof(int);\n",
        "\n",
        "    //number of times the program is to be executed\n",
        "    const size_t loope = NUM_LOOPE;\n",
        "\n",
        "    //declare array\n",
        "    int *data, *histogram;\n",
        "    cudaMallocManaged(&data, ARRAY_BYTES);\n",
        "    cudaMallocManaged(&histogram, NUM_BINS * sizeof(int));\n",
        "\n",
        "    //get gpu id\n",
        "    int device = -1;\n",
        "    cudaGetDevice(&device);\n",
        "\n",
        "    // memory advise\n",
        "    cudaMemAdvise(data, ARRAY_BYTES, cudaMemAdviseSetPreferredLocation, cudaCpuDeviceId);\n",
        "    cudaMemAdvise(data, ARRAY_BYTES, cudaMemAdviseSetReadMostly, cudaCpuDeviceId);\n",
        "\n",
        "    //\"prefetch data\" to create CPU page memory\n",
        "    cudaMemPrefetchAsync(data, ARRAY_BYTES, cudaCpuDeviceId, NULL);\n",
        "    cudaMemPrefetchAsync(histogram, NUM_BINS * sizeof(int), device, NULL);\n",
        "\n",
        "    // *** init array\n",
        "    for (size_t i = 0; i < VECTOR_SIZE; i++) {\n",
        "        data[i] = i;\n",
        "    }\n",
        "\n",
        "    //\"Prefetch data\" from CPU-GPU\n",
        "    cudaMemPrefetchAsync(data, ARRAY_BYTES, device, NULL);\n",
        "    cudaMemPrefetchAsync(histogram, NUM_BINS * sizeof(int), device, NULL);\n",
        "\n",
        "    // *** setup CUDA kernel\n",
        "    size_t numThreads = 1024;\n",
        "    size_t numBlocks = (VECTOR_SIZE + numThreads - 1) / numThreads;\n",
        "\n",
        "    printf(\"*** function = Histogram Counting\\n\");\n",
        "    printf(\"numElements = %lu\\n\", ARRAY_SIZE);\n",
        "    printf(\"numBlocks = %lu, numThreads = %lu \\n\", numBlocks, numThreads);\n",
        "\n",
        "    for (size_t i = 0; i < loope; i++) {\n",
        "        cudaMemset(histogram, 0, NUM_BINS * sizeof(int));\n",
        "        histogramKernel<<<numBlocks, numThreads>>>(data, histogram, VECTOR_SIZE);\n",
        "    }\n",
        "\n",
        "    //barrier\n",
        "    cudaDeviceSynchronize();\n",
        "\n",
        "    //\"Prefetch data\" from GPU-CPU\n",
        "    cudaMemPrefetchAsync(histogram, NUM_BINS * sizeof(int), cudaCpuDeviceId, NULL);\n",
        "\n",
        "    //error checking\n",
        "    size_t err_count = 0;\n",
        "    int referenceHistogram[NUM_BINS] = {0};\n",
        "    for (size_t i = 0; i < VECTOR_SIZE; i++) {\n",
        "        int bin = data[i] % NUM_BINS;\n",
        "        referenceHistogram[bin]++;\n",
        "    }\n",
        "    for (int i = 0; i < NUM_BINS; i++) {\n",
        "        if (histogram[i] != referenceHistogram[i]) {\n",
        "            printf(\"Mismatch at bin %d: CUDA=%d, CPU=%d\\n\", i, histogram[i], referenceHistogram[i]);\n",
        "            err_count++;\n",
        "        }\n",
        "    }\n",
        "    printf(\"Error count (CUDA program): %zu\\n\", err_count);\n",
        "\n",
        "    // Print results\n",
        "    for (int i = 0; i < NUM_BINS; i++) {\n",
        "        printf(\"Bin %d: %d\\n\", i, histogram[i]);\n",
        "    }\n",
        "\n",
        "    //free memory\n",
        "    cudaFree(data);\n",
        "    cudaFree(histogram);\n",
        "\n",
        "    return 0;\n",
        "}"
      ],
      "metadata": {
        "id": "ZLETBq-79A6c",
        "outputId": "4ece6957-5120-4427-9887-63651415c4f0",
        "colab": {
          "base_uri": "https://localhost:8080/"
        }
      },
      "execution_count": 27,
      "outputs": [
        {
          "output_type": "stream",
          "name": "stdout",
          "text": [
            "Overwriting cuda.cu\n"
          ]
        }
      ]
    },
    {
      "cell_type": "code",
      "source": [
        "%%shell\n",
        "nvcc cuda.cu -o cuda"
      ],
      "metadata": {
        "id": "v6WVtd_UhU4N",
        "outputId": "576044d2-b6ed-4809-bcf7-57bf3212c4b9",
        "colab": {
          "base_uri": "https://localhost:8080/"
        }
      },
      "execution_count": 28,
      "outputs": [
        {
          "output_type": "execute_result",
          "data": {
            "text/plain": []
          },
          "metadata": {},
          "execution_count": 28
        }
      ]
    },
    {
      "cell_type": "code",
      "source": [
        "%%shell\n",
        "nvprof ./cuda"
      ],
      "metadata": {
        "id": "ve-0s_CzhZ35",
        "outputId": "8f5c6d73-61b3-42fa-dd62-7c5ebdaad473",
        "colab": {
          "base_uri": "https://localhost:8080/"
        }
      },
      "execution_count": 29,
      "outputs": [
        {
          "output_type": "stream",
          "name": "stdout",
          "text": [
            "==12256== NVPROF is profiling process 12256, command: ./cuda\n",
            "*** function = Histogram Counting\n",
            "numElements = 268435456\n",
            "numBlocks = 262144, numThreads = 1024 \n",
            "Error count (CUDA program): 0\n",
            "Bin 0: 26843546\n",
            "Bin 1: 26843546\n",
            "Bin 2: 26843546\n",
            "Bin 3: 26843546\n",
            "Bin 4: 26843546\n",
            "Bin 5: 26843546\n",
            "Bin 6: 26843545\n",
            "Bin 7: 26843545\n",
            "Bin 8: 26843545\n",
            "Bin 9: 26843545\n",
            "==12256== Profiling application: ./cuda\n",
            "==12256== Profiling result:\n",
            "            Type  Time(%)      Time     Calls       Avg       Min       Max  Name\n",
            " GPU activities:  100.00%  1.90893s        30  63.631ms  61.040ms  108.16ms  histogramKernel(int*, int*, int)\n",
            "                    0.00%  52.479us        30  1.7490us  1.5680us  4.0000us  [CUDA memset]\n",
            "      API calls:   76.81%  1.84828s        30  61.609ms  57.878us  108.18ms  cudaMemset\n",
            "                   14.30%  344.17ms         5  68.833ms  28.015us  243.45ms  cudaMemPrefetchAsync\n",
            "                    4.53%  109.03ms         2  54.517ms  69.544us  108.97ms  cudaMallocManaged\n",
            "                    2.54%  61.048ms         1  61.048ms  61.048ms  61.048ms  cudaDeviceSynchronize\n",
            "                    1.76%  42.311ms         2  21.156ms  3.1541ms  39.157ms  cudaFree\n",
            "                    0.04%  1.0803ms        30  36.008us  19.446us  217.01us  cudaLaunchKernel\n",
            "                    0.01%  219.64us       114  1.9260us     147ns  84.914us  cuDeviceGetAttribute\n",
            "                    0.00%  18.663us         2  9.3310us  2.4850us  16.178us  cudaMemAdvise\n",
            "                    0.00%  14.319us         1  14.319us  14.319us  14.319us  cuDeviceGetName\n",
            "                    0.00%  5.1920us         1  5.1920us  5.1920us  5.1920us  cuDeviceGetPCIBusId\n",
            "                    0.00%  2.3260us         3     775ns     353ns  1.6040us  cuDeviceGetCount\n",
            "                    0.00%  1.7800us         1  1.7800us  1.7800us  1.7800us  cudaGetDevice\n",
            "                    0.00%  1.3860us         2     693ns     297ns  1.0890us  cuDeviceGet\n",
            "                    0.00%     543ns         1     543ns     543ns     543ns  cuDeviceTotalMem\n",
            "                    0.00%     485ns         1     485ns     485ns     485ns  cuModuleGetLoadingMode\n",
            "                    0.00%     298ns         1     298ns     298ns     298ns  cuDeviceGetUuid\n",
            "\n",
            "==12256== Unified Memory profiling result:\n",
            "Device \"Tesla T4 (0)\"\n",
            "   Count  Avg Size  Min Size  Max Size  Total Size  Total Time  Name\n",
            "     512  2.0000MB  2.0000MB  2.0000MB  1.000000GB  89.29089ms  Host To Device\n",
            "       1  4.0000KB  4.0000KB  4.0000KB  4.000000KB  1.600000us  Device To Host\n"
          ]
        },
        {
          "output_type": "execute_result",
          "data": {
            "text/plain": []
          },
          "metadata": {},
          "execution_count": 29
        }
      ]
    }
  ]
}