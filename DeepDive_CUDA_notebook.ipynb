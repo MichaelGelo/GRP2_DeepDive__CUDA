{
  "nbformat": 4,
  "nbformat_minor": 0,
  "metadata": {
    "colab": {
      "provenance": [],
      "gpuType": "T4",
      "toc_visible": true,
      "include_colab_link": true
    },
    "kernelspec": {
      "name": "python3",
      "display_name": "Python 3"
    },
    "language_info": {
      "name": "python"
    },
    "accelerator": "GPU"
  },
  "cells": [
    {
      "cell_type": "markdown",
      "metadata": {
        "id": "view-in-github",
        "colab_type": "text"
      },
      "source": [
        "<a href=\"https://colab.research.google.com/github/MichaelGelo/GRP2_DeepDive__CUDA/blob/main/DeepDive_CUDA_notebook.ipynb\" target=\"_parent\"><img src=\"https://colab.research.google.com/assets/colab-badge.svg\" alt=\"Open In Colab\"/></a>"
      ]
    },
    {
      "cell_type": "markdown",
      "source": [
        "# **Group 2 - DeepDive CUDA - Histogram counting (Atomic operations)**\n",
        "## **GROUP 2 - S11**\n",
        "\n",
        "**MEMBERS:**\n",
        "\n",
        "- Alfred Bastin S. Agustines\n",
        "- Allan David C. De Leon\n",
        "- Michael Angelo Depasucat\n",
        "- Kai Hiori J. Padilla\n"
      ],
      "metadata": {
        "id": "T-4fVR3o7XtN"
      }
    },
    {
      "cell_type": "markdown",
      "source": [
        "# (1) C Histogram program"
      ],
      "metadata": {
        "id": "IjZCFzFB8mUZ"
      }
    },
    {
      "cell_type": "code",
      "execution_count": 11,
      "metadata": {
        "id": "X7_eZc8b4lH1",
        "outputId": "1f322b4d-d2db-4b2f-af50-877054aa22f7",
        "colab": {
          "base_uri": "https://localhost:8080/"
        }
      },
      "outputs": [
        {
          "output_type": "stream",
          "name": "stdout",
          "text": [
            "Writing C_histo.c\n"
          ]
        }
      ],
      "source": [
        "%%writefile C_histo.c\n",
        "#include <stdio.h>\n",
        "#include <stdlib.h>\n",
        "#include <stdatomic.h>\n",
        "#include <time.h>\n",
        "#include <stdint.h>\n",
        "\n",
        "#define NUM_BINS 10\n",
        "\n",
        "void getHistogram(int* vector, int vectorSize, atomic_int* histogram) {\n",
        "    for (int i = 0; i < vectorSize; i++) {\n",
        "        int bIndex = vector[i] % NUM_BINS;\n",
        "        atomic_fetch_add(&histogram[bIndex], 1);\n",
        "    }\n",
        "}\n",
        "\n",
        "int main() {\n",
        "    const size_t ARRAY_SIZE = 1<<24;\n",
        "    const size_t ARRAY_BYTES = ARRAY_SIZE * sizeof(double);\n",
        "\n",
        "    int32_t *vector;\n",
        "    vector = (int32_t*)malloc(ARRAY_BYTES);\n",
        "    atomic_int histogram[NUM_BINS] = { 0 };\n",
        "    const size_t loope = 100;\n",
        "\n",
        "    for (int i = 0; i < ARRAY_SIZE; i++) {\n",
        "        vector[i] = i;\n",
        "    }\n",
        "\n",
        "    clock_t start, end;\n",
        "    getHistogram(vector, ARRAY_SIZE, histogram);\n",
        "\n",
        "\n",
        "    for (int i = 0; i < 10; i++) {\n",
        "        histogram[i] = 0;\n",
        "    }\n",
        "\n",
        "    double elapse, time_taken;\n",
        "    elapse = 0.0f;\n",
        "    for (int i = 0; i < loope; i++) {\n",
        "        for (int i = 0; i < 10; i++) {\n",
        "            histogram[i] = 0;\n",
        "        }\n",
        "        start = clock();\n",
        "        getHistogram(vector, ARRAY_SIZE, histogram);\n",
        "        end = clock();\n",
        "        time_taken = ((double)(end - start)) * 1E3 / CLOCKS_PER_SEC;\n",
        "        elapse = elapse + time_taken;\n",
        "    }\n",
        "    printf(\"Function (in C) average time for %lu loops is %f milliseconds to execute an array size %lu \\n\", loope, elapse / loope, ARRAY_SIZE);\n",
        "\n",
        "    size_t err_count = 0;\n",
        "    int32_t  test[NUM_BINS] = { 0 };\n",
        "\n",
        "    for (int i = 0; i < ARRAY_SIZE; i++) {\n",
        "        int bIndex = vector[i] % 10;\n",
        "        test[bIndex]++;\n",
        "    }\n",
        "    for (int i = 0; i < 10; i++) {\n",
        "\n",
        "        if (test[i] != histogram[i])\n",
        "            err_count++;\n",
        "    }\n",
        "    printf(\"Error count (C program): %lu\\n\", err_count);\n",
        "\n",
        "    for (int i = 0; i < NUM_BINS; i++) {\n",
        "        printf(\"Bin %d: %d\\n\", i, histogram[i]);\n",
        "    }\n",
        "\n",
        "    free(vector);\n",
        "\treturn 0;\n",
        "}"
      ]
    },
    {
      "cell_type": "code",
      "source": [
        "%%shell\n",
        "gcc C_histo.c -o C_histo"
      ],
      "metadata": {
        "id": "cPDW17QG7bCo",
        "outputId": "d002148d-86ea-4a35-c163-c51471fc92f6",
        "colab": {
          "base_uri": "https://localhost:8080/"
        }
      },
      "execution_count": 12,
      "outputs": [
        {
          "output_type": "execute_result",
          "data": {
            "text/plain": []
          },
          "metadata": {},
          "execution_count": 12
        }
      ]
    },
    {
      "cell_type": "code",
      "source": [
        "%%shell\n",
        "./C_histo"
      ],
      "metadata": {
        "id": "NOv8XVRl7nnJ",
        "outputId": "3aa895b6-7c26-490c-e72d-087c57a0822f",
        "colab": {
          "base_uri": "https://localhost:8080/"
        }
      },
      "execution_count": 13,
      "outputs": [
        {
          "output_type": "stream",
          "name": "stdout",
          "text": [
            "Function (in C) average time for 100 loops is 135.088830 milliseconds to execute an array size 16777216 \n",
            "Error count (C program): 0\n",
            "Bin 0: 1677722\n",
            "Bin 1: 1677722\n",
            "Bin 2: 1677722\n",
            "Bin 3: 1677722\n",
            "Bin 4: 1677722\n",
            "Bin 5: 1677722\n",
            "Bin 6: 1677721\n",
            "Bin 7: 1677721\n",
            "Bin 8: 1677721\n",
            "Bin 9: 1677721\n",
            "======== Warning: No profile data collected.\n"
          ]
        },
        {
          "output_type": "execute_result",
          "data": {
            "text/plain": []
          },
          "metadata": {},
          "execution_count": 13
        }
      ]
    },
    {
      "cell_type": "markdown",
      "source": [
        "# (2) CUDA program w/ Unified memory, pre-fetching and memadvise"
      ],
      "metadata": {
        "id": "Xen_Tj0D8ucN"
      }
    },
    {
      "cell_type": "code",
      "source": [
        "%%writefile cuda.cu\n",
        "#include <stdio.h>\n",
        "#include <stdlib.h>\n",
        "#include <cuda_runtime.h>\n",
        "#include <chrono>\n",
        "\n",
        "#define VECTOR_SIZE (1 << 24)\n",
        "#define NUM_BINS 10\n",
        "\n",
        "// CUDA kernel using atomic operations\n",
        "__global__ void histogramKernel(int *d_data, int *d_histogram, int size) {\n",
        "    int index = blockIdx.x * blockDim.x + threadIdx.x;\n",
        "    int stride = blockDim.x * gridDim.x;\n",
        "    for (int i = index; i < size; i += stride) {\n",
        "        int bin = d_data[i] % NUM_BINS;\n",
        "        atomicAdd(&d_histogram[bin], 1);\n",
        "    }\n",
        "}\n",
        "\n",
        "int main() {\n",
        "    const size_t ARRAY_SIZE = VECTOR_SIZE;\n",
        "    const size_t ARRAY_BYTES = ARRAY_SIZE * sizeof(int);\n",
        "    const size_t loope = 100;\n",
        "\n",
        "    // Declare array\n",
        "    int *data, *histogram;\n",
        "    cudaMallocManaged(&data, ARRAY_BYTES);\n",
        "    cudaMallocManaged(&histogram, NUM_BINS * sizeof(int));\n",
        "\n",
        "    // Get GPU device\n",
        "    int device = -1;\n",
        "    cudaGetDevice(&device);\n",
        "\n",
        "    // Memory advise\n",
        "    cudaMemAdvise(data, ARRAY_BYTES, cudaMemAdviseSetPreferredLocation, cudaCpuDeviceId);\n",
        "    cudaMemAdvise(data, ARRAY_BYTES, cudaMemAdviseSetReadMostly, cudaCpuDeviceId);\n",
        "\n",
        "    // Prefetch to create CPU page memory\n",
        "    cudaMemPrefetchAsync(data, ARRAY_BYTES, cudaCpuDeviceId, NULL);\n",
        "    cudaMemPrefetchAsync(histogram, NUM_BINS * sizeof(int), device, NULL);\n",
        "\n",
        "    // Initialize array\n",
        "    for (size_t i = 0; i < VECTOR_SIZE; i++) {\n",
        "        data[i] = i;\n",
        "    }\n",
        "\n",
        "    // Prefetch data from CPU to GPU\n",
        "    cudaMemPrefetchAsync(data, ARRAY_BYTES, device, NULL);\n",
        "\n",
        "    // Setup CUDA kernel\n",
        "    size_t numThreads = 1024;\n",
        "    size_t numBlocks = (VECTOR_SIZE + numThreads - 1) / numThreads;\n",
        "\n",
        "    printf(\"*** function = Histogram Counting\\n\");\n",
        "    printf(\"numElements = %lu\\n\", ARRAY_SIZE);\n",
        "    printf(\"numBlocks = %lu, numThreads = %lu \\n\", numBlocks, numThreads);\n",
        "\n",
        "    for (size_t i = 0; i < loope; i++) {\n",
        "        cudaMemset(histogram, 0, NUM_BINS * sizeof(int));\n",
        "        histogramKernel<<<numBlocks, numThreads>>>(data, histogram, VECTOR_SIZE);\n",
        "    }\n",
        "\n",
        "    // Synchronize device\n",
        "    cudaDeviceSynchronize();\n",
        "\n",
        "    // Prefetch result back to CPU\n",
        "    cudaMemPrefetchAsync(histogram, NUM_BINS * sizeof(int), cudaCpuDeviceId, NULL);\n",
        "\n",
        "    // Error checking\n",
        "    size_t err_count = 0;\n",
        "    int referenceHistogram[NUM_BINS] = {0};\n",
        "    for (size_t i = 0; i < VECTOR_SIZE; i++) {\n",
        "        int bin = data[i] % NUM_BINS;\n",
        "        referenceHistogram[bin]++;\n",
        "    }\n",
        "    for (int i = 0; i < NUM_BINS; i++) {\n",
        "        if (histogram[i] != referenceHistogram[i]) {\n",
        "            printf(\"Mismatch at bin %d: CUDA=%d, CPU=%d\\n\", i, histogram[i], referenceHistogram[i]);\n",
        "            err_count++;\n",
        "        }\n",
        "    }\n",
        "    printf(\"Error count (CUDA program): %zu\\n\", err_count);\n",
        "\n",
        "    // Print results\n",
        "    for (int i = 0; i < NUM_BINS; i++) {\n",
        "        printf(\"Bin %d: %d\\n\", i, histogram[i]);\n",
        "    }\n",
        "\n",
        "    // Free memory\n",
        "    cudaFree(data);\n",
        "    cudaFree(histogram);\n",
        "\n",
        "    return 0;\n",
        "}"
      ],
      "metadata": {
        "id": "ZLETBq-79A6c",
        "outputId": "df4adf7b-777f-4d16-9cd7-7144b9fb2d67",
        "colab": {
          "base_uri": "https://localhost:8080/"
        }
      },
      "execution_count": 8,
      "outputs": [
        {
          "output_type": "stream",
          "name": "stdout",
          "text": [
            "Writing cuda.cu\n"
          ]
        }
      ]
    },
    {
      "cell_type": "code",
      "source": [
        "%%shell\n",
        "nvcc cuda.cu -o cuda"
      ],
      "metadata": {
        "id": "v6WVtd_UhU4N",
        "outputId": "04718855-9a00-4f2e-e8fd-6a482156b44c",
        "colab": {
          "base_uri": "https://localhost:8080/"
        }
      },
      "execution_count": 9,
      "outputs": [
        {
          "output_type": "execute_result",
          "data": {
            "text/plain": []
          },
          "metadata": {},
          "execution_count": 9
        }
      ]
    },
    {
      "cell_type": "code",
      "source": [
        "%%shell\n",
        "nvprof ./cuda"
      ],
      "metadata": {
        "id": "ve-0s_CzhZ35",
        "outputId": "5786f392-ae40-4a0b-b9ee-040e4421b691",
        "colab": {
          "base_uri": "https://localhost:8080/"
        }
      },
      "execution_count": 10,
      "outputs": [
        {
          "output_type": "stream",
          "name": "stdout",
          "text": [
            "==2565== NVPROF is profiling process 2565, command: ./cuda\n",
            "*** function = Histogram Counting\n",
            "numElements = 16777216\n",
            "numBlocks = 16384, numThreads = 1024 \n",
            "Error count (CUDA program): 0\n",
            "Bin 0: 1677722\n",
            "Bin 1: 1677722\n",
            "Bin 2: 1677722\n",
            "Bin 3: 1677722\n",
            "Bin 4: 1677722\n",
            "Bin 5: 1677722\n",
            "Bin 6: 1677721\n",
            "Bin 7: 1677721\n",
            "Bin 8: 1677721\n",
            "Bin 9: 1677721\n",
            "==2565== Profiling application: ./cuda\n",
            "==2565== Profiling result:\n",
            "            Type  Time(%)      Time     Calls       Avg       Min       Max  Name\n",
            " GPU activities:   99.96%  497.48ms       100  4.9748ms  3.8173ms  6.7634ms  histogramKernel(int*, int*, int)\n",
            "                    0.04%  220.64us       100  2.2060us  1.5680us  4.0320us  [CUDA memset]\n",
            "      API calls:   67.34%  494.45ms       100  4.9445ms  56.530us  6.7773ms  cudaMemset\n",
            "                   28.05%  205.93ms         2  102.97ms  62.594us  205.87ms  cudaMallocManaged\n",
            "                    3.37%  24.732ms         4  6.1830ms  94.545us  14.374ms  cudaMemPrefetchAsync\n",
            "                    0.52%  3.8241ms         2  1.9121ms  1.0576ms  2.7665ms  cudaFree\n",
            "                    0.52%  3.8200ms         1  3.8200ms  3.8200ms  3.8200ms  cudaDeviceSynchronize\n",
            "                    0.17%  1.2833ms       100  12.832us  4.9160us  203.93us  cudaLaunchKernel\n",
            "                    0.02%  169.03us       114  1.4820us     134ns  85.650us  cuDeviceGetAttribute\n",
            "                    0.00%  18.553us         2  9.2760us  2.0850us  16.468us  cudaMemAdvise\n",
            "                    0.00%  13.510us         1  13.510us  13.510us  13.510us  cuDeviceGetName\n",
            "                    0.00%  6.3800us         1  6.3800us  6.3800us  6.3800us  cuDeviceGetPCIBusId\n",
            "                    0.00%  2.0930us         1  2.0930us  2.0930us  2.0930us  cudaGetDevice\n",
            "                    0.00%  1.4680us         3     489ns     187ns  1.0230us  cuDeviceGetCount\n",
            "                    0.00%     774ns         2     387ns     195ns     579ns  cuDeviceGet\n",
            "                    0.00%     567ns         1     567ns     567ns     567ns  cuModuleGetLoadingMode\n",
            "                    0.00%     384ns         1     384ns     384ns     384ns  cuDeviceTotalMem\n",
            "                    0.00%     232ns         1     232ns     232ns     232ns  cuDeviceGetUuid\n",
            "\n",
            "==2565== Unified Memory profiling result:\n",
            "Device \"Tesla T4 (0)\"\n",
            "   Count  Avg Size  Min Size  Max Size  Total Size  Total Time  Name\n",
            "      32  2.0000MB  2.0000MB  2.0000MB  64.00000MB  5.531115ms  Host To Device\n",
            "       1  4.0000KB  4.0000KB  4.0000KB  4.000000KB  1.440000us  Device To Host\n"
          ]
        },
        {
          "output_type": "execute_result",
          "data": {
            "text/plain": []
          },
          "metadata": {},
          "execution_count": 10
        }
      ]
    },
    {
      "cell_type": "markdown",
      "source": [
        "# (3) CUDA program w/ Unified memory, pre-fetching and memadvise (ALL CUDA)"
      ],
      "metadata": {
        "id": "J5h1pSdAECze"
      }
    },
    {
      "cell_type": "code",
      "source": [
        "%%writefile cuda2.cu\n",
        "#include <stdio.h>\n",
        "#include <stdlib.h>\n",
        "#include <cuda_runtime.h>\n",
        "#include <atomic>\n",
        "#include <chrono>\n",
        "\n",
        "#define VECTOR_SIZE (1 << 24)\n",
        "#define NUM_BINS 10\n",
        "\n",
        "std::atomic<int> referenceHistogram[NUM_BINS];\n",
        "std::atomic<size_t> err_count(0);\n",
        "\n",
        "// CUDA kernel using atomic operations\n",
        "__global__ void histogramKernel(int *d_data, int *d_histogram, int size) {\n",
        "    int index = blockIdx.x * blockDim.x + threadIdx.x;\n",
        "    int stride = blockDim.x * gridDim.x;\n",
        "    for (int i = index; i < size; i += stride) {\n",
        "        int bin = d_data[i] % NUM_BINS;\n",
        "        atomicAdd(&d_histogram[bin], 1);\n",
        "    }\n",
        "}\n",
        "\n",
        "int main() {\n",
        "    const size_t ARRAY_SIZE = VECTOR_SIZE;\n",
        "    const size_t ARRAY_BYTES = ARRAY_SIZE * sizeof(int);\n",
        "    const size_t loope = 100;\n",
        "\n",
        "    // Declare array\n",
        "    int *data, *histogram;\n",
        "    cudaMallocManaged(&data, ARRAY_BYTES);\n",
        "    cudaMallocManaged(&histogram, NUM_BINS * sizeof(int));\n",
        "\n",
        "    // Get GPU device\n",
        "    int device = -1;\n",
        "    cudaGetDevice(&device);\n",
        "\n",
        "    // Memory advise\n",
        "    cudaMemAdvise(data, ARRAY_BYTES, cudaMemAdviseSetPreferredLocation, cudaCpuDeviceId);\n",
        "    cudaMemAdvise(data, ARRAY_BYTES, cudaMemAdviseSetReadMostly, cudaCpuDeviceId);\n",
        "\n",
        "    // Prefetch to create CPU page memory\n",
        "    cudaMemPrefetchAsync(data, ARRAY_BYTES, cudaCpuDeviceId, NULL);\n",
        "    cudaMemPrefetchAsync(histogram, NUM_BINS * sizeof(int), device, NULL);\n",
        "\n",
        "    // Initialize array\n",
        "    for (size_t i = 0; i < VECTOR_SIZE; i++) {\n",
        "        data[i] = i;\n",
        "    }\n",
        "\n",
        "    // Prefetch data from CPU to GPU\n",
        "    cudaMemPrefetchAsync(data, ARRAY_BYTES, device, NULL);\n",
        "\n",
        "    // Setup CUDA kernel\n",
        "    size_t numThreads = 1024;\n",
        "    size_t numBlocks = (VECTOR_SIZE + numThreads - 1) / numThreads;\n",
        "\n",
        "    printf(\"*** function = Histogram Counting\\n\");\n",
        "    printf(\"numElements = %lu\\n\", ARRAY_SIZE);\n",
        "    printf(\"numBlocks = %lu, numThreads = %lu \\n\", numBlocks, numThreads);\n",
        "\n",
        "    for (size_t i = 0; i < loope; i++) {\n",
        "        cudaMemset(histogram, 0, NUM_BINS * sizeof(int));\n",
        "        histogramKernel<<<numBlocks, numThreads>>>(data, histogram, VECTOR_SIZE);\n",
        "    }\n",
        "\n",
        "    // Synchronize device\n",
        "    cudaDeviceSynchronize();\n",
        "\n",
        "    // Prefetch result back to CPU\n",
        "    cudaMemPrefetchAsync(histogram, NUM_BINS * sizeof(int), cudaCpuDeviceId, NULL);\n",
        "\n",
        "    // Error checking\n",
        "    for (size_t i = 0; i < VECTOR_SIZE; i++) {\n",
        "        int bin = data[i] % NUM_BINS;\n",
        "        referenceHistogram[bin].fetch_add(1, std::memory_order_relaxed);\n",
        "    }\n",
        "    for (int i = 0; i < NUM_BINS; i++) {\n",
        "        if (histogram[i] != referenceHistogram[i].load()) {\n",
        "            printf(\"Mismatch at bin %d: CUDA=%d, CPU=%d\\n\", i, histogram[i], referenceHistogram[i].load());\n",
        "            err_count.fetch_add(1, std::memory_order_relaxed);\n",
        "        }\n",
        "    }\n",
        "    printf(\"Error count (CUDA program): %zu\\n\", err_count.load());\n",
        "\n",
        "    // Print results\n",
        "    for (int i = 0; i < NUM_BINS; i++) {\n",
        "        printf(\"Bin %d: %d\\n\", i, histogram[i]);\n",
        "    }\n",
        "\n",
        "    // Free memory\n",
        "    cudaFree(data);\n",
        "    cudaFree(histogram);\n",
        "\n",
        "    return 0;\n",
        "}\n"
      ],
      "metadata": {
        "colab": {
          "base_uri": "https://localhost:8080/"
        },
        "id": "iRD7mHXvEHVi",
        "outputId": "123e20ed-bd52-4b71-cb80-5b699210bd73"
      },
      "execution_count": 5,
      "outputs": [
        {
          "output_type": "stream",
          "name": "stdout",
          "text": [
            "Overwriting cuda2.cu\n"
          ]
        }
      ]
    },
    {
      "cell_type": "code",
      "source": [
        "%%shell\n",
        "nvcc cuda2.cu -o cuda2"
      ],
      "metadata": {
        "colab": {
          "base_uri": "https://localhost:8080/"
        },
        "id": "speQWwJZEQV8",
        "outputId": "77bfc106-da01-4d3e-b6ae-4ddd1b7c8d90"
      },
      "execution_count": 6,
      "outputs": [
        {
          "output_type": "execute_result",
          "data": {
            "text/plain": []
          },
          "metadata": {},
          "execution_count": 6
        }
      ]
    },
    {
      "cell_type": "code",
      "source": [
        "%%shell\n",
        "nvprof ./cuda2"
      ],
      "metadata": {
        "colab": {
          "base_uri": "https://localhost:8080/"
        },
        "id": "yqB8gbgHESoG",
        "outputId": "34cae219-7b23-4b02-9c67-029808242628"
      },
      "execution_count": 7,
      "outputs": [
        {
          "output_type": "stream",
          "name": "stdout",
          "text": [
            "==2451== NVPROF is profiling process 2451, command: ./cuda2\n",
            "*** function = Histogram Counting\n",
            "numElements = 16777216\n",
            "numBlocks = 16384, numThreads = 1024 \n",
            "Error count (CUDA program): 0\n",
            "Bin 0: 1677722\n",
            "Bin 1: 1677722\n",
            "Bin 2: 1677722\n",
            "Bin 3: 1677722\n",
            "Bin 4: 1677722\n",
            "Bin 5: 1677722\n",
            "Bin 6: 1677721\n",
            "Bin 7: 1677721\n",
            "Bin 8: 1677721\n",
            "Bin 9: 1677721\n",
            "==2451== Profiling application: ./cuda2\n",
            "==2451== Profiling result:\n",
            "            Type  Time(%)      Time     Calls       Avg       Min       Max  Name\n",
            " GPU activities:   99.96%  499.82ms       100  4.9982ms  3.8164ms  6.7635ms  histogramKernel(int*, int*, int)\n",
            "                    0.04%  216.06us       100  2.1600us  1.5670us  4.0320us  [CUDA memset]\n",
            "      API calls:   67.89%  496.82ms       100  4.9682ms  65.384us  6.7793ms  cudaMemset\n",
            "                   27.64%  202.24ms         2  101.12ms  71.087us  202.17ms  cudaMallocManaged\n",
            "                    3.01%  22.019ms         4  5.5047ms  93.757us  15.748ms  cudaMemPrefetchAsync\n",
            "                    0.72%  5.2643ms         2  2.6321ms  1.1421ms  4.1222ms  cudaFree\n",
            "                    0.52%  3.8201ms         1  3.8201ms  3.8201ms  3.8201ms  cudaDeviceSynchronize\n",
            "                    0.19%  1.3766ms       100  13.766us  5.6480us  222.31us  cudaLaunchKernel\n",
            "                    0.02%  176.45us       114  1.5470us     136ns  67.358us  cuDeviceGetAttribute\n",
            "                    0.00%  20.012us         2  10.006us  2.1920us  17.820us  cudaMemAdvise\n",
            "                    0.00%  12.362us         1  12.362us  12.362us  12.362us  cuDeviceGetName\n",
            "                    0.00%  6.7950us         1  6.7950us  6.7950us  6.7950us  cuDeviceGetPCIBusId\n",
            "                    0.00%  2.1440us         1  2.1440us  2.1440us  2.1440us  cudaGetDevice\n",
            "                    0.00%  1.5820us         3     527ns     200ns  1.1390us  cuDeviceGetCount\n",
            "                    0.00%     945ns         2     472ns     165ns     780ns  cuDeviceGet\n",
            "                    0.00%     590ns         1     590ns     590ns     590ns  cuModuleGetLoadingMode\n",
            "                    0.00%     363ns         1     363ns     363ns     363ns  cuDeviceTotalMem\n",
            "                    0.00%     230ns         1     230ns     230ns     230ns  cuDeviceGetUuid\n",
            "\n",
            "==2451== Unified Memory profiling result:\n",
            "Device \"Tesla T4 (0)\"\n",
            "   Count  Avg Size  Min Size  Max Size  Total Size  Total Time  Name\n",
            "      32  2.0000MB  2.0000MB  2.0000MB  64.00000MB  5.535018ms  Host To Device\n",
            "       1  4.0000KB  4.0000KB  4.0000KB  4.000000KB  1.439000us  Device To Host\n"
          ]
        },
        {
          "output_type": "execute_result",
          "data": {
            "text/plain": []
          },
          "metadata": {},
          "execution_count": 7
        }
      ]
    }
  ]
}